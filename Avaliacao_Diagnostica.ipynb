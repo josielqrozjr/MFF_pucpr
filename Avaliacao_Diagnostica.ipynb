{
  "nbformat": 4,
  "nbformat_minor": 0,
  "metadata": {
    "colab": {
      "provenance": [],
      "authorship_tag": "ABX9TyNvnHDu+ub2Fv5V17P0hXSM",
      "include_colab_link": true
    },
    "kernelspec": {
      "name": "python3",
      "display_name": "Python 3"
    },
    "language_info": {
      "name": "python"
    }
  },
  "cells": [
    {
      "cell_type": "markdown",
      "metadata": {
        "id": "view-in-github",
        "colab_type": "text"
      },
      "source": [
        "<a href=\"https://colab.research.google.com/github/josielqrozjr/MFF_pucpr/blob/main/Avaliacao_Diagnostica.ipynb\" target=\"_parent\"><img src=\"https://colab.research.google.com/assets/colab-badge.svg\" alt=\"Open In Colab\"/></a>"
      ]
    },
    {
      "cell_type": "markdown",
      "source": [
        "##AVALIAÇÃO DIAGNÓSTICA\n",
        "* Bacharelado em Ciência da Computação\n",
        "* Disciplina: Modelagem de Fenômenos Físicos\n",
        "* Estudante: Josiel Queiroz, Jr."
      ],
      "metadata": {
        "id": "7Ph3CiKRNigC"
      }
    },
    {
      "cell_type": "code",
      "execution_count": null,
      "metadata": {
        "id": "RUcRsUqoMxWV"
      },
      "outputs": [],
      "source": [
        "import numpy as np\n",
        "import matplotlib.pyplot as plt\n",
        "\n",
        "# Generate a random angle between 0 and pi\n",
        "angle = np.random.uniform(0, np.pi)\n",
        "\n",
        "# Calculate sine, cosine, and tangent\n",
        "sine = np.sin(angle)\n",
        "cosine = np.cos(angle)\n",
        "tangent = np.tan(angle)\n",
        "\n",
        "# Create the plot\n",
        "fig, ax = plt.subplots(figsize=(8, 8))\n",
        "\n",
        "# Draw the unit circle\n",
        "circle = plt.Circle((0, 0), 1, color='black', fill=False)\n",
        "ax.add_artist(circle)\n",
        "\n",
        "# Draw the x and y axes\n",
        "ax.axhline(0, color='black', lw=1)\n",
        "ax.axvline(0, color='black', lw=1)\n",
        "\n",
        "# Plot the sine, cosine, and tangent lines\n",
        "ax.plot([0, cosine], [0, sine], color='red', label='sen(θ)')\n",
        "ax.plot([0, cosine], [0, -sine], color='blue', label='cos(θ)')\n",
        "\n",
        "# If tangent is defined, plot it\n",
        "if np.isfinite(tangent):\n",
        "    ax.plot([0, tangent], [0, 1], color='green', label='tan(θ)')\n",
        "\n",
        "\n",
        "# Add labels and title\n",
        "ax.set_xlabel('x')\n",
        "ax.set_ylabel('y')\n",
        "ax.set_title(f'θ = {angle:.2f} rad')\n",
        "\n",
        "# Add legend\n",
        "plt.legend()\n",
        "\n",
        "# Show the plot\n",
        "\n",
        "plt.show()"
      ]
    }
  ]
}